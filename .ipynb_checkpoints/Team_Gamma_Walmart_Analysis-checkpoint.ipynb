{
 "cells": [
  {
   "cell_type": "code",
   "execution_count": null,
   "id": "1cd5e66f",
   "metadata": {},
   "outputs": [],
   "source": [
    "\n",
    "import pandas as pd\n",
    "import matplotlib.pyplot as plt\n",
    "import csv\n",
    "import numpy as np\n"
   ]
  },
  {
   "cell_type": "code",
   "execution_count": null,
   "id": "d5eddedb",
   "metadata": {},
   "outputs": [],
   "source": [
    "\n",
    "# Load the dataset\n",
    "data = pd.read_csv('walmart.csv')\n",
    "\n",
    "# Display the first few rows of the dataset\n",
    "data.head()\n"
   ]
  },
  {
   "cell_type": "code",
   "execution_count": null,
   "id": "0f5ef4af",
   "metadata": {},
   "outputs": [],
   "source": [
    "\n",
    "# Convert 'Purchase' column to numeric, drop rows with missing values in critical columns\n",
    "data['Purchase'] = pd.to_numeric(data['Purchase'], errors='coerce')\n",
    "data = data.dropna(subset=['Gender', 'Age', 'Purchase'])\n",
    "\n",
    "# Print dataset information and row count\n",
    "count = len(data)\n",
    "print(f\"The total number of rows in the dataset: {count}\")\n",
    "\n",
    "data.info()\n"
   ]
  },
  {
   "cell_type": "code",
   "execution_count": null,
   "id": "45832d24",
   "metadata": {},
   "outputs": [],
   "source": [
    "data['User_ID'] = data['User_ID'].astype(str)\n",
    "data['Product_ID'] = data['Product_ID'].astype(str)\n",
    "data['Gender'] = data['Gender'].astype(str)\n",
    "data['Age'] = data['Age'].astype(str)\n",
    "data['Occupation'] = data['Occupation'].astype(str)\n",
    "data['City_Category'] = data['City_Category'].astype(str)\n",
    "data['Marital_Status'] = data['Marital_Status'].astype(str)\n",
    "data['Product_Cataegory'] = data['Product_Category'].astype(str)\n",
    "\n",
    "data.info()"
   ]
  },
  {
   "cell_type": "code",
   "execution_count": null,
   "id": "fb39b9f8",
   "metadata": {},
   "outputs": [],
   "source": [
    "# Total sales by Age\n",
    "salesByAgeGroup = data.groupby('Age').sum()['Purchase'].reset_index()\n",
    "salesByAgeGroup = salesByAgeGroup.sort_values(by='Purchase', ascending=False)\n",
    "\n",
    "salesByAgeGroup"
   ]
  },
  {
   "cell_type": "code",
   "execution_count": null,
   "id": "3de9d65a",
   "metadata": {},
   "outputs": [],
   "source": [
    "# Calculates total sales by gender\n",
    "genderTotal = data.groupby('Gender')['Purchase'].sum()\n",
    "genderTotal\n",
    "genderTotal_df = genderTotal.reset_index()\n",
    "genderTotal_df.columns = ['Gender', 'Totals']\n",
    "genderTotal = data.groupby('Gender')['Purchase'].sum()\n",
    "\n",
    "genderTotal_df"
   ]
  },
  {
   "cell_type": "code",
   "execution_count": null,
   "id": "3c235a79",
   "metadata": {},
   "outputs": [],
   "source": [
    "# % of sales for each gender\n",
    "percentageTotal = genderTotal_df['Totals'].sum()\n",
    "\n",
    "genderTotal_df['Percentage'] = (genderTotal_df['Totals'] / percentageTotal) * 100\n",
    "\n",
    "# rounds by two decimals\n",
    "genderTotal_df['Percentage'] = genderTotal_df['Percentage'].round(2)\n",
    "genderTotal_df\n"
   ]
  },
  {
   "cell_type": "code",
   "execution_count": null,
   "id": "ff67607b",
   "metadata": {},
   "outputs": [],
   "source": [
    "# Total sales by age and gender\n",
    "salesByAgeGender = data.groupby(['Age', 'Gender']).sum()['Purchase'].reset_index()\n",
    "salesByAgeGender.columns = ['Age', 'Gender', 'Total Sales']\n",
    "print(\"Total Sales by Age and Gender: \")\n",
    "salesByAgeGender"
   ]
  },
  {
   "cell_type": "code",
   "execution_count": null,
   "id": "3b46f9fe",
   "metadata": {},
   "outputs": [],
   "source": [
    "#Average purchase price per gender\n",
    "genderGroupPurchase = data.groupby('Gender')['Purchase'].mean().reset_index()\n",
    "genderGroupPurchase.columns = ['Gender', 'Average Purchase']\n",
    "genderGroupPurchase"
   ]
  },
  {
   "cell_type": "code",
   "execution_count": null,
   "id": "47b04e2c",
   "metadata": {},
   "outputs": [],
   "source": [
    "#Average purchase price by Age group\n",
    "genderGroupAge = data.groupby('Age')['Purchase'].mean().reset_index()\n",
    "genderGroupAge.columns = ['Age', 'Average Purchase']\n",
    "print(\"Average Purchase Price by Age Group: \")\n",
    "genderGroupAge"
   ]
  },
  {
   "cell_type": "code",
   "execution_count": null,
   "id": "c6b06d70",
   "metadata": {},
   "outputs": [],
   "source": [
    "#genderTotal = data.groupby('Gender')['Purchase'].sum()\n",
    "#genderTotal"
   ]
  },
  {
   "cell_type": "code",
   "execution_count": null,
   "id": "49babb3d",
   "metadata": {},
   "outputs": [],
   "source": [
    "#genderTotal = data.groupby()\n",
    "\n",
    "plt.bar(genderTotal_df['Gender'], genderTotal_df['Totals'], color=['blue', 'green'])\n",
    "plt.title('Total Spending by Gender')\n",
    "plt.xlabel('Gender')\n",
    "plt.ylabel('Total Spending')\n",
    "plt.show()"
   ]
  },
  {
   "cell_type": "code",
   "execution_count": null,
   "id": "84c3d874",
   "metadata": {},
   "outputs": [],
   "source": [
    "#calculate purchase price by occupation\n",
    "genderGroupOcc = data.groupby('Occupation')['Purchase'].mean().reset_index()\n",
    "genderGroupOcc.columns = ['Occupation', 'Average Purchase']\n",
    "genderGroupOcc"
   ]
  },
  {
   "cell_type": "code",
   "execution_count": null,
   "id": "1a80b244",
   "metadata": {},
   "outputs": [],
   "source": [
    "# Avgerage purchase price by City Category\n",
    "genderGroupCity = data.groupby('City_Category')['Purchase'].mean().reset_index()\n",
    "genderGroupCity.columns = ['City Category', 'Average Purchase']\n",
    "print(\"Average Purchase Price by City Category: \")\n",
    "genderGroupCity"
   ]
  },
  {
   "cell_type": "code",
   "execution_count": null,
   "id": "03f1861c",
   "metadata": {},
   "outputs": [],
   "source": [
    "# Median purchase price by gender\n",
    "medianPurchaseByGender = data.groupby('Gender')['Purchase'].mean().reset_index()\n",
    "medianPurchaseByGender.columns = ['Gender', 'Median Purchase']\n",
    "medianPurchaseByGender"
   ]
  },
  {
   "cell_type": "code",
   "execution_count": null,
   "id": "176d87b7",
   "metadata": {},
   "outputs": [],
   "source": [
    "# Total Sales by Product Category\n",
    "productSales = data.groupby('Product_Category')['Purchase'].sum().reset_index()\n",
    "productSales = productSales.sort_values(by='Purchase', ascending=False)\n",
    "productSales.columns = ['Product Category', 'Total Sales']\n",
    "productSales"
   ]
  },
  {
   "cell_type": "code",
   "execution_count": null,
   "id": "8adcfc23",
   "metadata": {},
   "outputs": [],
   "source": [
    "cityTotalSales = data.groupby('City_Category')['Purchase'].sum().reset_index()\n",
    "cityTotalSales.columns = ['City Category', 'Total Purchase']\n",
    "cityTotalSales"
   ]
  },
  {
   "cell_type": "code",
   "execution_count": null,
   "id": "fe21ba95",
   "metadata": {},
   "outputs": [],
   "source": [
    "# Top 10 customers by Total Purchases\n",
    "topCustomers = data.groupby('User_ID')['Purchase'].sum().sort_values(ascending=False).head(10).reset_index()\n",
    "topCustomers.columns = ['Top 10 Customer IDs', 'Total Purchases']\n",
    "topCustomers"
   ]
  },
  {
   "cell_type": "code",
   "execution_count": null,
   "id": "2ea59bb3",
   "metadata": {},
   "outputs": [],
   "source": [
    "#genderTotal = data.groupby()\n",
    "# Define the RGBA for light purple and light green\n",
    "light_purple = (200/255, 162/255, 200/255, 1)  # Normalize RGB values to [0, 1]\n",
    "light_green = (144/255, 238/255, 144/255)\n",
    "#RGB(144, 238, 144)\n",
    "# Create the bar plot\n",
    "plt.bar(genderTotal_df['Gender'], genderTotal_df['Totals'], color=[light_purple, light_green])\n",
    "plt.title('Total Spending by Gender')\n",
    "plt.xlabel('Gender')\n",
    "plt.ylabel('Total Spending')\n",
    "plt.show()"
   ]
  },
  {
   "cell_type": "code",
   "execution_count": null,
   "id": "4a857005",
   "metadata": {},
   "outputs": [],
   "source": [
    "# pie chart showing total sales differences between men and women\n",
    "genderTotal.plot(\n",
    "    kind = \"pie\",\n",
    "    autopct = \"%1.1f%%\",\n",
    "    colors = [\"pink\", \"blue\"]\n",
    ")\n",
    "plt.title(\"Total spending diffferences amongst genders\")\n",
    "plt.show()"
   ]
  },
  {
   "cell_type": "code",
   "execution_count": null,
   "id": "d9666d52",
   "metadata": {},
   "outputs": [],
   "source": []
  },
  {
   "cell_type": "code",
   "execution_count": null,
   "id": "dc30743e",
   "metadata": {},
   "outputs": [],
   "source": [
    "data.info()\n"
   ]
  },
  {
   "cell_type": "code",
   "execution_count": null,
   "id": "29c77076",
   "metadata": {},
   "outputs": [],
   "source": [
    "## example how to convert data types: total_rows['ColumnID'] = total_rows['ColumnID'].astype(str)\n",
    "\n",
    "data['User_ID'] = data['User_ID'].astype(str)\n",
    "data['Product_ID'] = data['Product_ID'].astype(str)\n",
    "data['Gender'] = data['Gender'].astype(str)\n",
    "data['Age'] = data['Age'].astype(str)\n",
    "data['Occupation'] = data['Occupation'].astype(str)\n",
    "data['City_Category'] = data['City_Category'].astype(str)\n",
    "data['Marital_Status'] = data['Marital_Status'].astype(str)\n",
    "data['Product_Cataegory'] = data['Product_Category'].astype(str)\n",
    "\n",
    "data.info()"
   ]
  },
  {
   "cell_type": "code",
   "execution_count": null,
   "id": "b6cf8842",
   "metadata": {},
   "outputs": [],
   "source": [
    "#calculate the average purchase price per gender and product category\n",
    "genderGroupPurchase = data.groupby(['Gender']).mean('Purchase')\n",
    "genderGroupPurchase = pd.DataFrame(genderGroupPurchase['Purchase'])\n",
    "genderGroupPurchase"
   ]
  },
  {
   "cell_type": "code",
   "execution_count": null,
   "id": "5b70414c",
   "metadata": {},
   "outputs": [],
   "source": [
    "#calculate the average purchase price per gender and product category\n",
    "genderGroupPurchasePC = data.groupby(['Gender', 'Product_Category']).mean('Purchase')\n",
    "genderGroupPurchasePC"
   ]
  },
  {
   "cell_type": "code",
   "execution_count": null,
   "id": "0cb9e699",
   "metadata": {},
   "outputs": [],
   "source": [
    "#calculate average purchase price by Age group\n",
    "genderGroupAge = data.groupby('Age').mean('Purchase')\n",
    "genderGroupAge"
   ]
  },
  {
   "cell_type": "code",
   "execution_count": null,
   "id": "a4fc5e3c",
   "metadata": {},
   "outputs": [],
   "source": [
    "#calculate total purchase price by Age group\n",
    "genderGroupAgeSum = data.groupby('Age').sum('Purchase')\n",
    "genderGroupAgeSum"
   ]
  },
  {
   "cell_type": "code",
   "execution_count": null,
   "id": "f5e61874",
   "metadata": {},
   "outputs": [],
   "source": [
    "#calculate purchase price by occupation\n",
    "genderGroupOcc = data.groupby('Occupation').mean('Purchase')\n",
    "genderGroupOcc"
   ]
  },
  {
   "cell_type": "code",
   "execution_count": null,
   "id": "0a5e1421",
   "metadata": {},
   "outputs": [],
   "source": [
    "#create dataframe with averasge purchase price by age\n",
    "\n",
    "Age_purchase=genderGroupAge['Purchase']\n",
    "Age_purchase = pd.DataFrame(Age_purchase)\n",
    "Age_purchase "
   ]
  },
  {
   "cell_type": "code",
   "execution_count": null,
   "id": "69320ed9",
   "metadata": {},
   "outputs": [],
   "source": [
    "#calculate average purchase price by CIty Category\n",
    "genderGroupCity = data.groupby('City_Category').mean('Purchase')\n",
    "genderGroupCity"
   ]
  },
  {
   "cell_type": "code",
   "execution_count": null,
   "id": "b5363baa",
   "metadata": {},
   "outputs": [],
   "source": [
    "#Total spend by Marital Status - generally, copy from the Male female spend overview.  Bar Chart. (Amy)\n",
    "MaritalStatPurchase = data.groupby('Marital_Status').sum('Purchase')\n",
    "MaritalStatPurchase = pd.DataFrame(MaritalStatPurchase['Purchase'])\n",
    "\n",
    "#MaritalStatPurchase['Purchase'] = MaritalStatPurchase['Purchase'].map(\"{:,}\".format)\n",
    "\n",
    "MaritalStatPurchase\n"
   ]
  },
  {
   "cell_type": "code",
   "execution_count": null,
   "id": "07b83b5e",
   "metadata": {},
   "outputs": [],
   "source": [
    "\n",
    "#create graph for marrital status and total purchase\n",
    "#set x-axis and tick locations\n",
    "x_axis = ['Unmarried', 'Married']\n",
    "tick_locations = [value for value in x_axis]\n",
    "plt.figure(figsize=(10,4))\n",
    "plt.bar(x_axis, MaritalStatPurchase['Purchase'], color=('b', 'y'), alpha=0.5, align='center')\n",
    "plt.xticks(tick_locations, rotation='horizontal')\n",
    "plt.ylim(0, max(MaritalStatPurchase[\"Purchase\"]+50000000))\n",
    "plt.title(\"Total Spend, Married vs. Unmarried\")\n",
    "plt.xlabel(\"Marital Status\")\n",
    "plt.ylabel(\"Total Spend in billions of $\")\n",
    "plt.show"
   ]
  },
  {
   "cell_type": "code",
   "execution_count": null,
   "id": "6940e8aa",
   "metadata": {},
   "outputs": [],
   "source": [
    "# overviewe of total spend per product category (Amy/Anna)\n",
    "#filter the data df for married \n",
    "#group df filtered for married by product category\n",
    "ProdCategorySum = data.groupby(['Product_Category']).sum('Purchase')\n",
    "ProdCategorySum\n"
   ]
  },
  {
   "cell_type": "code",
   "execution_count": null,
   "id": "0a2d3232",
   "metadata": {},
   "outputs": [],
   "source": [
    "#create graph for shoppers total spend per category\n",
    "#set x-axis and tick locations\n",
    "x_axis = [1,2,3,4,5,6,7,8,9,10,11,12,13,14,15,16,17,18,19,20]\n",
    "tick_locations = [value for value in x_axis]\n",
    "plt.figure(figsize=(20,4))\n",
    "plt.bar(x_axis, ProdCategorySum['Purchase'], color=('purple'), alpha=0.5, align='center')\n",
    "plt.xticks(tick_locations, rotation='vertical')\n",
    "plt.ylim(0, max(ProdCategorySum[\"Purchase\"]+20000000))\n",
    "plt.title(\"Total Spend per Product Category Overall\")\n",
    "plt.xlabel(\"Product Category\")\n",
    "plt.ylabel(\"Total Spend in Billions $\")\n",
    "\n",
    "plt.show"
   ]
  },
  {
   "cell_type": "code",
   "execution_count": null,
   "id": "7bafc951",
   "metadata": {},
   "outputs": [],
   "source": [
    "# overviewe of average spend per product category (Amy/Anna)\n",
    "#filter the data df for married \n",
    "#group df filtered for married by product category\n",
    "ProdCategoryMean = data.groupby(['Product_Category']).mean('Purchase')\n",
    "ProdCategoryMean"
   ]
  },
  {
   "cell_type": "code",
   "execution_count": null,
   "id": "7126641c",
   "metadata": {},
   "outputs": [],
   "source": [
    "#create graph for shoppers total spend per category\n",
    "#set x-axis and tick locations\n",
    "x_axis = [1,2,3,4,5,6,7,8,9,10,11,12,13,14,15,16,17,18,19,20]\n",
    "tick_locations = [value for value in x_axis]\n",
    "plt.figure(figsize=(20,4))\n",
    "plt.bar(x_axis, ProdCategoryMean['Purchase'], color=('yellow'), alpha=0.5, align='center')\n",
    "plt.xticks(tick_locations, rotation='vertical')\n",
    "plt.ylim(0, max(ProdCategoryMean[\"Purchase\"]+200))\n",
    "plt.title(\"Average Spend per Product Category Overall\")\n",
    "plt.xlabel(\"Product Category\")\n",
    "plt.ylabel(\"Total Spend in $\")\n",
    "\n",
    "plt.show"
   ]
  },
  {
   "cell_type": "code",
   "execution_count": null,
   "id": "3075de9e",
   "metadata": {},
   "outputs": [],
   "source": [
    "# overviewe of category and marital status (Amy)\n",
    "#filter the data df for married \n",
    "MarriedMeanPurch = data[data['Marital_Status']=='1']\n",
    "\n",
    "#group df filtered for married by product category\n",
    "MarriedMeanPurchProd = MarriedMeanPurch.groupby(['Product_Category']).mean('Purchase')\n",
    "MarriedMeanPurchProd"
   ]
  },
  {
   "cell_type": "code",
   "execution_count": null,
   "id": "5d97b217",
   "metadata": {},
   "outputs": [],
   "source": [
    "UnmarriedMeanPurch = data[data['Marital_Status']=='0']\n",
    "\n",
    "UnmarriedMeanPurch = UnmarriedMeanPurch.groupby(['Product_Category']).mean('Purchase')\n",
    "UnmarriedMeanPurch"
   ]
  },
  {
   "cell_type": "code",
   "execution_count": null,
   "id": "69cfa4cc",
   "metadata": {},
   "outputs": [],
   "source": [
    "#create graph for unmarried shoppers and averge purcahse\n",
    "#set x-axis and tick locations\n",
    "x_axis2 = [1,2,3,4,5,6,7,8,9,10,11,12,13,14,15,16,17,18,19,20]\n",
    "tick_locations = [value for value in x_axis2]\n",
    "plt.figure(figsize=(20,4))\n",
    "plt.bar(x_axis2, UnmarriedMeanPurch['Purchase'], color=('b'), alpha=0.5, align='center')\n",
    "plt.xticks(tick_locations, rotation='vertical')\n",
    "plt.ylim(0, max(UnmarriedMeanPurch[\"Purchase\"]+200))\n",
    "plt.title(\"Average Spend per Product Category, Unmarried Shoppers\")\n",
    "plt.xlabel(\"Product Category\")\n",
    "plt.ylabel(\"Average Spend in $\")\n",
    "\n",
    "plt.show"
   ]
  },
  {
   "cell_type": "code",
   "execution_count": null,
   "id": "ca5479d9",
   "metadata": {},
   "outputs": [],
   "source": [
    "#create graph for married shoppers and averge purcahse\n",
    "#set x-axis and tick locations\n",
    "x_axis = [1,2,3,4,5,6,7,8,9,10,11,12,13,14,15,16,17,18,19,20]\n",
    "tick_locations = [value for value in x_axis]\n",
    "plt.figure(figsize=(20,4))\n",
    "plt.bar(x_axis, MarriedMeanPurchProd['Purchase'], color=('g'), alpha=0.5, align='center')\n",
    "plt.xticks(tick_locations, rotation='vertical')\n",
    "plt.ylim(0, max(MarriedMeanPurchProd[\"Purchase\"]+200))\n",
    "plt.title(\"Average Spend per Product Category, Married Shoppers\")\n",
    "plt.xlabel(\"Product Category\")\n",
    "plt.ylabel(\"Average Spend in $\")\n",
    "\n",
    "plt.show"
   ]
  },
  {
   "cell_type": "code",
   "execution_count": null,
   "id": "6f86c70b",
   "metadata": {},
   "outputs": [],
   "source": [
    "# create a bar graph with multiple bars grouped by product category for married vs unmarried average spend by product category\n",
    "x = [1,2,3,4,5,6,7,8,9,10,11,12,13,14,15,16,17,18,19,20]\n",
    "x_axis = np.arange(len(x))\n",
    "\n",
    "plt.bar(x_axis -.2, MarriedMeanPurchProd['Purchase'], 0.4, label = \"Married\")\n",
    "plt.bar(x_axis +.2, UnmarriedMeanPurch['Purchase'], 0.4, label = \"Unmarried\")\n",
    "\n",
    "plt.xticks(x_axis, x) \n",
    "plt.xlabel(\"Product Category\") \n",
    "plt.ylabel(\"Average Spend\") \n",
    "plt.title(\"Average Spend per Product Category, Married vs Unmarried\") \n",
    "plt.legend() \n",
    "plt.show() "
   ]
  },
  {
   "cell_type": "code",
   "execution_count": null,
   "id": "311cbc1e",
   "metadata": {},
   "outputs": [],
   "source": [
    "#subtract married from unmarried\n",
    "UnmarriedvsMarriedDiff = UnmarriedMeanPurch - MarriedMeanPurchProd\n",
    "UnmarriedvsMarriedDiff\n",
    "maxdiff = "
   ]
  },
  {
   "cell_type": "code",
   "execution_count": null,
   "id": "353c5db7",
   "metadata": {},
   "outputs": [],
   "source": [
    "#Calculate the average purchase amount by Marital Status \n",
    "genderGroupMarital_Status = data.groupby('Marital_Status')['Purchase'].mean().reset_index()\n",
    "genderGroupMarital_Status"
   ]
  },
  {
   "cell_type": "code",
   "execution_count": null,
   "id": "3a9acade",
   "metadata": {},
   "outputs": [],
   "source": []
  },
  {
   "cell_type": "code",
   "execution_count": null,
   "id": "a64d7db3",
   "metadata": {},
   "outputs": [],
   "source": [
    "genderGroupMarital_Status = pd.DataFrame(\n",
    "    {\n",
    "        'Marital_Status': genderGroupMarital_Status['Marital_Status'], \n",
    "        'Purchase': genderGroupMarital_Status['Purchase']\n",
    "    }\n",
    ")\n",
    "print(genderGroupMarital_Status) "
   ]
  },
  {
   "cell_type": "code",
   "execution_count": null,
   "id": "8f4ba253",
   "metadata": {},
   "outputs": [],
   "source": [
    "# Calculate the total purchase amount by Occupation\n",
    "genderGroupOccupation = data.groupby('Occupation')['Purchase'].sum()\n",
    "genderGroupOccupation"
   ]
  },
  {
   "cell_type": "code",
   "execution_count": null,
   "id": "d1e84dfd",
   "metadata": {},
   "outputs": [],
   "source": [
    "# Create a pie chart based on above data\n",
    "\n",
    "#Create axes and title \n",
    "\n",
    "# plt.title('Avg Purchase Amount by Marital Status')\n",
    "labels = 'Unmarried', 'Married'\n",
    "sizes = [9265.91, 9261.17]\n",
    "\n",
    "fig, ax = plt.subplots()\n",
    "ax.pie(sizes, labels=labels,autopct='%1.3f%%')\n",
    "ax.set_title(\"Avg Purchase Amount by Marital Status\")\n",
    "plt.show()"
   ]
  },
  {
   "cell_type": "code",
   "execution_count": null,
   "id": "f6cc2b59",
   "metadata": {},
   "outputs": [],
   "source": [
    "# Average spent per city\n",
    "purchasePerCity = data.groupby('City_Category').mean('Purchase')\n",
    "purchasePerCity"
   ]
  },
  {
   "cell_type": "code",
   "execution_count": null,
   "id": "e6da59dc",
   "metadata": {},
   "outputs": [],
   "source": [
    "\n",
    "data.boxplot(column='Purchase', by='City_Category', grid=False, showmeans=True, patch_artist=True, \n",
    "             boxprops=dict(facecolor=\"skyblue\", color=\"black\"), \n",
    "             medianprops=dict(color=\"red\"),\n",
    "             meanprops=dict(marker=\"o\", markerfacecolor=\"green\", markeredgecolor=\"black\"))\n",
    "\n",
    "plt.title('Purchase Distribution by City')\n",
    "plt.suptitle('')  \n",
    "plt.xlabel('City Category')\n",
    "plt.ylabel('Purchase Amount')\n",
    "plt.show()\n"
   ]
  },
  {
   "cell_type": "code",
   "execution_count": null,
   "id": "a7fc230c",
   "metadata": {},
   "outputs": [],
   "source": [
    "# Average spent per Number of years lived in a city\n",
    "purchasePerYearsInCity = data.groupby('Stay_In_Current_City_Years').mean('Purchase')\n",
    "purchasePerYearsInCity"
   ]
  },
  {
   "cell_type": "code",
   "execution_count": null,
   "id": "4b00687b",
   "metadata": {},
   "outputs": [],
   "source": [
    "# Calculate average purchase grouped by years in the city\n",
    "purchasePerYearsInCity = data.groupby('Stay_In_Current_City_Years')['Purchase'].mean().reset_index()\n",
    "\n",
    "# Create a new DataFrame with the required format\n",
    "spentByYearsInCityDF = pd.DataFrame(\n",
    "    {\n",
    "        \"Stay In Current City (Years)\": purchasePerYearsInCity['Stay_In_Current_City_Years'],\n",
    "        \"Purchase\": purchasePerYearsInCity['Purchase']\n",
    "    }\n",
    ")\n",
    "\n",
    "print(spentByYearsInCityDF)\n"
   ]
  },
  {
   "cell_type": "code",
   "execution_count": null,
   "id": "b0d05106",
   "metadata": {},
   "outputs": [],
   "source": [
    "# Plot the horizontal bar chart\n",
    "plt.figure(figsize=(10, 6))\n",
    "plt.barh(\n",
    "    spentByYearsInCityDF[\"Stay In Current City (Years)\"], \n",
    "    spentByYearsInCityDF[\"Purchase\"], \n",
    "    color='skyblue'\n",
    ")\n",
    "\n",
    "# Add labels and title\n",
    "plt.xlabel('Average Purchase Amount')\n",
    "plt.ylabel('Years Spent in Current City')\n",
    "plt.title('Average Purchases by Years Spent in Current City')\n",
    "plt.grid(axis='x', linestyle='--', alpha=0.7)\n",
    "plt.xlim(8000, max(spentByYearsInCityDF[\"Purchase\"]+100))\n",
    "\n",
    "\n",
    "# Show the plot\n",
    "plt.show()\n"
   ]
  }
 ],
 "metadata": {},
 "nbformat": 4,
 "nbformat_minor": 5
}
